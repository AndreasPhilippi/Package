{
 "cells": [
  {
   "cell_type": "markdown",
   "metadata": {},
   "source": [
    "## Separate Estimation and Optimization"
   ]
  },
  {
   "cell_type": "markdown",
   "metadata": {},
   "source": [
    "In this notebook we will run through different SEO approaches to get a better understanding of how they work and how they performe. Therefore, we will use a real world dataset from a fast casual restaurant in Stuttart called YAZ. The main ingredients for the meals at YAZ, e.g. steak, lamb, fish ect. are prepared at a central factory and are deep-frozen to achieve longer shelf lives. Depending on the estimated demand for the next day, the ingredients are defrosted over night. These defrosted ingredients/meals then have to be sold within the following day. Unsold ingredients have to be disposed of so YAZ is facing a typical single-period inventory problem.  "
   ]
  },
  {
   "cell_type": "markdown",
   "metadata": {},
   "source": [
    "------------------------\n",
    "### Load libraries"
   ]
  },
  {
   "cell_type": "markdown",
   "metadata": {},
   "source": [
    "Before we are ready to start we have to load the libraries we will need in the following."
   ]
  },
  {
   "cell_type": "code",
   "execution_count": 1,
   "metadata": {},
   "outputs": [
    {
     "name": "stderr",
     "output_type": "stream",
     "text": [
      "Using TensorFlow backend.\n"
     ]
    }
   ],
   "source": [
    "from ddop.datasets.load_datasets import load_data\n",
    "from ddop.newsvendor import ExponentialSmoothingNewsvendor\n",
    "from ddop.metrics.costs import calc_avg_costs\n",
    "from sklearn.model_selection import train_test_split\n",
    "from matplotlib import pyplot as plt\n",
    "import seaborn as sns\n",
    "import numpy as np\n",
    "import pandas\n",
    "import scipy\n",
    "from scipy.stats import norm"
   ]
  },
  {
   "cell_type": "markdown",
   "metadata": {},
   "source": [
    "You can install the missing packages by uncommenting and executing the following cell:"
   ]
  },
  {
   "cell_type": "code",
   "execution_count": 2,
   "metadata": {
    "scrolled": true
   },
   "outputs": [],
   "source": [
    "#pip install ddop sklearn matplotlib numpy scipy seaborn "
   ]
  },
  {
   "cell_type": "markdown",
   "metadata": {},
   "source": [
    "-----------------\n",
    "### Data"
   ]
  },
  {
   "cell_type": "markdown",
   "metadata": {
    "scrolled": true
   },
   "source": [
    "As mentioned above, we will us the YAZ dataset for this tutorial. So lets first load the data and have a look at it."
   ]
  },
  {
   "cell_type": "code",
   "execution_count": 3,
   "metadata": {},
   "outputs": [],
   "source": [
    "data = load_data(\"yaz_multioutput.csv\")"
   ]
  },
  {
   "cell_type": "code",
   "execution_count": 4,
   "metadata": {},
   "outputs": [
    {
     "data": {
      "text/html": [
       "<div>\n",
       "<style scoped>\n",
       "    .dataframe tbody tr th:only-of-type {\n",
       "        vertical-align: middle;\n",
       "    }\n",
       "\n",
       "    .dataframe tbody tr th {\n",
       "        vertical-align: top;\n",
       "    }\n",
       "\n",
       "    .dataframe thead th {\n",
       "        text-align: right;\n",
       "    }\n",
       "</style>\n",
       "<table border=\"1\" class=\"dataframe\">\n",
       "  <thead>\n",
       "    <tr style=\"text-align: right;\">\n",
       "      <th></th>\n",
       "      <th>Montag</th>\n",
       "      <th>Dienstag</th>\n",
       "      <th>Mittwoch</th>\n",
       "      <th>Donnerstag</th>\n",
       "      <th>Freitag</th>\n",
       "      <th>Samstag</th>\n",
       "      <th>Sonntag</th>\n",
       "      <th>MONTH_JAN</th>\n",
       "      <th>MONTH_FEB</th>\n",
       "      <th>MONTH_MAR</th>\n",
       "      <th>...</th>\n",
       "      <th>MONTH_OCT</th>\n",
       "      <th>MONTH_NOV</th>\n",
       "      <th>MONTH_DEC</th>\n",
       "      <th>YEAR_2013</th>\n",
       "      <th>YEAR_2014</th>\n",
       "      <th>YEAR_2015</th>\n",
       "      <th>ISHOLIDAY</th>\n",
       "      <th>WEEKEND</th>\n",
       "      <th>STEAK</th>\n",
       "      <th>HAEHNCHEN</th>\n",
       "    </tr>\n",
       "  </thead>\n",
       "  <tbody>\n",
       "    <tr>\n",
       "      <th>0</th>\n",
       "      <td>0</td>\n",
       "      <td>0</td>\n",
       "      <td>0</td>\n",
       "      <td>0</td>\n",
       "      <td>1</td>\n",
       "      <td>0</td>\n",
       "      <td>0</td>\n",
       "      <td>0</td>\n",
       "      <td>0</td>\n",
       "      <td>0</td>\n",
       "      <td>...</td>\n",
       "      <td>1</td>\n",
       "      <td>0</td>\n",
       "      <td>0</td>\n",
       "      <td>1</td>\n",
       "      <td>0</td>\n",
       "      <td>0</td>\n",
       "      <td>0</td>\n",
       "      <td>0</td>\n",
       "      <td>36</td>\n",
       "      <td>40</td>\n",
       "    </tr>\n",
       "    <tr>\n",
       "      <th>1</th>\n",
       "      <td>0</td>\n",
       "      <td>0</td>\n",
       "      <td>0</td>\n",
       "      <td>0</td>\n",
       "      <td>0</td>\n",
       "      <td>1</td>\n",
       "      <td>0</td>\n",
       "      <td>0</td>\n",
       "      <td>0</td>\n",
       "      <td>0</td>\n",
       "      <td>...</td>\n",
       "      <td>1</td>\n",
       "      <td>0</td>\n",
       "      <td>0</td>\n",
       "      <td>1</td>\n",
       "      <td>0</td>\n",
       "      <td>0</td>\n",
       "      <td>0</td>\n",
       "      <td>1</td>\n",
       "      <td>30</td>\n",
       "      <td>44</td>\n",
       "    </tr>\n",
       "    <tr>\n",
       "      <th>2</th>\n",
       "      <td>0</td>\n",
       "      <td>0</td>\n",
       "      <td>0</td>\n",
       "      <td>0</td>\n",
       "      <td>0</td>\n",
       "      <td>0</td>\n",
       "      <td>1</td>\n",
       "      <td>0</td>\n",
       "      <td>0</td>\n",
       "      <td>0</td>\n",
       "      <td>...</td>\n",
       "      <td>1</td>\n",
       "      <td>0</td>\n",
       "      <td>0</td>\n",
       "      <td>1</td>\n",
       "      <td>0</td>\n",
       "      <td>0</td>\n",
       "      <td>0</td>\n",
       "      <td>1</td>\n",
       "      <td>16</td>\n",
       "      <td>19</td>\n",
       "    </tr>\n",
       "    <tr>\n",
       "      <th>3</th>\n",
       "      <td>1</td>\n",
       "      <td>0</td>\n",
       "      <td>0</td>\n",
       "      <td>0</td>\n",
       "      <td>0</td>\n",
       "      <td>0</td>\n",
       "      <td>0</td>\n",
       "      <td>0</td>\n",
       "      <td>0</td>\n",
       "      <td>0</td>\n",
       "      <td>...</td>\n",
       "      <td>1</td>\n",
       "      <td>0</td>\n",
       "      <td>0</td>\n",
       "      <td>1</td>\n",
       "      <td>0</td>\n",
       "      <td>0</td>\n",
       "      <td>0</td>\n",
       "      <td>0</td>\n",
       "      <td>22</td>\n",
       "      <td>28</td>\n",
       "    </tr>\n",
       "    <tr>\n",
       "      <th>4</th>\n",
       "      <td>0</td>\n",
       "      <td>1</td>\n",
       "      <td>0</td>\n",
       "      <td>0</td>\n",
       "      <td>0</td>\n",
       "      <td>0</td>\n",
       "      <td>0</td>\n",
       "      <td>0</td>\n",
       "      <td>0</td>\n",
       "      <td>0</td>\n",
       "      <td>...</td>\n",
       "      <td>1</td>\n",
       "      <td>0</td>\n",
       "      <td>0</td>\n",
       "      <td>1</td>\n",
       "      <td>0</td>\n",
       "      <td>0</td>\n",
       "      <td>0</td>\n",
       "      <td>0</td>\n",
       "      <td>29</td>\n",
       "      <td>22</td>\n",
       "    </tr>\n",
       "    <tr>\n",
       "      <th>...</th>\n",
       "      <td>...</td>\n",
       "      <td>...</td>\n",
       "      <td>...</td>\n",
       "      <td>...</td>\n",
       "      <td>...</td>\n",
       "      <td>...</td>\n",
       "      <td>...</td>\n",
       "      <td>...</td>\n",
       "      <td>...</td>\n",
       "      <td>...</td>\n",
       "      <td>...</td>\n",
       "      <td>...</td>\n",
       "      <td>...</td>\n",
       "      <td>...</td>\n",
       "      <td>...</td>\n",
       "      <td>...</td>\n",
       "      <td>...</td>\n",
       "      <td>...</td>\n",
       "      <td>...</td>\n",
       "      <td>...</td>\n",
       "      <td>...</td>\n",
       "    </tr>\n",
       "    <tr>\n",
       "      <th>755</th>\n",
       "      <td>0</td>\n",
       "      <td>1</td>\n",
       "      <td>0</td>\n",
       "      <td>0</td>\n",
       "      <td>0</td>\n",
       "      <td>0</td>\n",
       "      <td>0</td>\n",
       "      <td>0</td>\n",
       "      <td>0</td>\n",
       "      <td>0</td>\n",
       "      <td>...</td>\n",
       "      <td>0</td>\n",
       "      <td>1</td>\n",
       "      <td>0</td>\n",
       "      <td>0</td>\n",
       "      <td>0</td>\n",
       "      <td>1</td>\n",
       "      <td>0</td>\n",
       "      <td>0</td>\n",
       "      <td>32</td>\n",
       "      <td>47</td>\n",
       "    </tr>\n",
       "    <tr>\n",
       "      <th>756</th>\n",
       "      <td>0</td>\n",
       "      <td>0</td>\n",
       "      <td>1</td>\n",
       "      <td>0</td>\n",
       "      <td>0</td>\n",
       "      <td>0</td>\n",
       "      <td>0</td>\n",
       "      <td>0</td>\n",
       "      <td>0</td>\n",
       "      <td>0</td>\n",
       "      <td>...</td>\n",
       "      <td>0</td>\n",
       "      <td>1</td>\n",
       "      <td>0</td>\n",
       "      <td>0</td>\n",
       "      <td>0</td>\n",
       "      <td>1</td>\n",
       "      <td>0</td>\n",
       "      <td>0</td>\n",
       "      <td>38</td>\n",
       "      <td>38</td>\n",
       "    </tr>\n",
       "    <tr>\n",
       "      <th>757</th>\n",
       "      <td>0</td>\n",
       "      <td>0</td>\n",
       "      <td>0</td>\n",
       "      <td>1</td>\n",
       "      <td>0</td>\n",
       "      <td>0</td>\n",
       "      <td>0</td>\n",
       "      <td>0</td>\n",
       "      <td>0</td>\n",
       "      <td>0</td>\n",
       "      <td>...</td>\n",
       "      <td>0</td>\n",
       "      <td>1</td>\n",
       "      <td>0</td>\n",
       "      <td>0</td>\n",
       "      <td>0</td>\n",
       "      <td>1</td>\n",
       "      <td>0</td>\n",
       "      <td>0</td>\n",
       "      <td>24</td>\n",
       "      <td>47</td>\n",
       "    </tr>\n",
       "    <tr>\n",
       "      <th>758</th>\n",
       "      <td>0</td>\n",
       "      <td>0</td>\n",
       "      <td>0</td>\n",
       "      <td>0</td>\n",
       "      <td>1</td>\n",
       "      <td>0</td>\n",
       "      <td>0</td>\n",
       "      <td>0</td>\n",
       "      <td>0</td>\n",
       "      <td>0</td>\n",
       "      <td>...</td>\n",
       "      <td>0</td>\n",
       "      <td>1</td>\n",
       "      <td>0</td>\n",
       "      <td>0</td>\n",
       "      <td>0</td>\n",
       "      <td>1</td>\n",
       "      <td>0</td>\n",
       "      <td>0</td>\n",
       "      <td>32</td>\n",
       "      <td>50</td>\n",
       "    </tr>\n",
       "    <tr>\n",
       "      <th>759</th>\n",
       "      <td>0</td>\n",
       "      <td>0</td>\n",
       "      <td>0</td>\n",
       "      <td>0</td>\n",
       "      <td>0</td>\n",
       "      <td>1</td>\n",
       "      <td>0</td>\n",
       "      <td>0</td>\n",
       "      <td>0</td>\n",
       "      <td>0</td>\n",
       "      <td>...</td>\n",
       "      <td>0</td>\n",
       "      <td>1</td>\n",
       "      <td>0</td>\n",
       "      <td>0</td>\n",
       "      <td>0</td>\n",
       "      <td>1</td>\n",
       "      <td>0</td>\n",
       "      <td>1</td>\n",
       "      <td>20</td>\n",
       "      <td>45</td>\n",
       "    </tr>\n",
       "  </tbody>\n",
       "</table>\n",
       "<p>760 rows × 26 columns</p>\n",
       "</div>"
      ],
      "text/plain": [
       "     Montag  Dienstag  Mittwoch  Donnerstag  Freitag  Samstag  Sonntag  \\\n",
       "0         0         0         0           0        1        0        0   \n",
       "1         0         0         0           0        0        1        0   \n",
       "2         0         0         0           0        0        0        1   \n",
       "3         1         0         0           0        0        0        0   \n",
       "4         0         1         0           0        0        0        0   \n",
       "..      ...       ...       ...         ...      ...      ...      ...   \n",
       "755       0         1         0           0        0        0        0   \n",
       "756       0         0         1           0        0        0        0   \n",
       "757       0         0         0           1        0        0        0   \n",
       "758       0         0         0           0        1        0        0   \n",
       "759       0         0         0           0        0        1        0   \n",
       "\n",
       "     MONTH_JAN  MONTH_FEB  MONTH_MAR  ...  MONTH_OCT  MONTH_NOV  MONTH_DEC  \\\n",
       "0            0          0          0  ...          1          0          0   \n",
       "1            0          0          0  ...          1          0          0   \n",
       "2            0          0          0  ...          1          0          0   \n",
       "3            0          0          0  ...          1          0          0   \n",
       "4            0          0          0  ...          1          0          0   \n",
       "..         ...        ...        ...  ...        ...        ...        ...   \n",
       "755          0          0          0  ...          0          1          0   \n",
       "756          0          0          0  ...          0          1          0   \n",
       "757          0          0          0  ...          0          1          0   \n",
       "758          0          0          0  ...          0          1          0   \n",
       "759          0          0          0  ...          0          1          0   \n",
       "\n",
       "     YEAR_2013  YEAR_2014  YEAR_2015  ISHOLIDAY  WEEKEND  STEAK  HAEHNCHEN  \n",
       "0            1          0          0          0        0     36         40  \n",
       "1            1          0          0          0        1     30         44  \n",
       "2            1          0          0          0        1     16         19  \n",
       "3            1          0          0          0        0     22         28  \n",
       "4            1          0          0          0        0     29         22  \n",
       "..         ...        ...        ...        ...      ...    ...        ...  \n",
       "755          0          0          1          0        0     32         47  \n",
       "756          0          0          1          0        0     38         38  \n",
       "757          0          0          1          0        0     24         47  \n",
       "758          0          0          1          0        0     32         50  \n",
       "759          0          0          1          0        1     20         45  \n",
       "\n",
       "[760 rows x 26 columns]"
      ]
     },
     "execution_count": 4,
     "metadata": {},
     "output_type": "execute_result"
    }
   ],
   "source": [
    "data"
   ]
  },
  {
   "cell_type": "code",
   "execution_count": 5,
   "metadata": {},
   "outputs": [],
   "source": [
    "data = data.drop(labels=[80,81,82,83,84,85,443,444,445,446,447,448,449,450,451,452])"
   ]
  },
  {
   "cell_type": "markdown",
   "metadata": {},
   "source": [
    "As we can see our dataset stores the demand data for two products, steak and Fisch, over the last 760 days. In addition, we have a bunch of different demand features that may have predictive power. These features include information about the day, month, year, lag demand, weather conditons and more. For  detailed information about all features check out the dataset documentation <u>here</u>. (TODO: Add reference here)"
   ]
  },
  {
   "cell_type": "markdown",
   "metadata": {},
   "source": [
    "---------------------------------------------\n",
    "### Traditional parametric approach"
   ]
  },
  {
   "cell_type": "markdown",
   "metadata": {},
   "source": [
    "As first step of this tutorial lets have a look at the traditional parametric approach. As we have already learned, the traditional way of solving the newsvendor problem when the underlying demand distribution is unknown is to assume that the demand falls in a family of parametric distributions, estimate the parameters based on historical demands, and then solve the initial optimization problem. "
   ]
  },
  {
   "cell_type": "markdown",
   "metadata": {},
   "source": [
    "#### Preprocess data"
   ]
  },
  {
   "cell_type": "markdown",
   "metadata": {},
   "source": [
    "For the traditional parametric approach we only need the historical demand without any feature information. Moreover, for simplicity, we will only consider the demand for steak. "
   ]
  },
  {
   "cell_type": "code",
   "execution_count": 6,
   "metadata": {},
   "outputs": [],
   "source": [
    "y = data[\"STEAK\"]"
   ]
  },
  {
   "cell_type": "markdown",
   "metadata": {},
   "source": [
    "Given the data, lets split it into train and test set, whereby the test set contains 25% of the original dataset."
   ]
  },
  {
   "cell_type": "code",
   "execution_count": 7,
   "metadata": {},
   "outputs": [],
   "source": [
    "y_train, y_test = train_test_split(y, train_size=0.75, shuffle=False)"
   ]
  },
  {
   "cell_type": "markdown",
   "metadata": {},
   "source": [
    "#### Estimate parameters"
   ]
  },
  {
   "cell_type": "markdown",
   "metadata": {},
   "source": [
    "In this step we have to fit a distribution function to our data and calculate its parameters.\n",
    "To see how our data is distributed, we can use a normalised histogram. "
   ]
  },
  {
   "cell_type": "code",
   "execution_count": 8,
   "metadata": {},
   "outputs": [
    {
     "data": {
      "text/plain": [
       "[]"
      ]
     },
     "execution_count": 8,
     "metadata": {},
     "output_type": "execute_result"
    },
    {
     "data": {
      "image/png": "[encoded data removed]",
      "text/plain": [
       "<Figure size 432x288 with 1 Axes>"
      ]
     },
     "metadata": {
      "needs_background": "light"
     },
     "output_type": "display_data"
    }
   ],
   "source": [
    "# normalised histogram\n",
    "hist = sns.distplot(y_train, hist=True, norm_hist=True, kde=False,\n",
    "             bins=y_train.max()-y_train.min(), color = 'blue',\n",
    "             hist_kws={'edgecolor':'black'})\n",
    "hist.plot()"
   ]
  },
  {
   "cell_type": "markdown",
   "metadata": {},
   "source": [
    "Given the plot above let us assume the demand of steak is normally distributed.\n",
    "Fitting a normal distribution to the data gives us the following result:"
   ]
  },
  {
   "cell_type": "code",
   "execution_count": 9,
   "metadata": {},
   "outputs": [
    {
     "data": {
      "text/plain": [
       "[]"
      ]
     },
     "execution_count": 9,
     "metadata": {},
     "output_type": "execute_result"
    },
    {
     "data": {
      "image/png": "[encoded data removed]",
      "text/plain": [
       "<Figure size 432x288 with 1 Axes>"
      ]
     },
     "metadata": {
      "needs_background": "light"
     },
     "output_type": "display_data"
    }
   ],
   "source": [
    "# seaborn histogram\n",
    "hist = sns.distplot(y_train, fit=scipy.stats.norm, hist=True, norm_hist=True, kde=False,\n",
    "             bins=y_train.max()-y_train.min(), color = 'blue',\n",
    "             hist_kws={'edgecolor':'black'})\n",
    "hist.plot()"
   ]
  },
  {
   "cell_type": "markdown",
   "metadata": {},
   "source": [
    "With mean and standard deviation:"
   ]
  },
  {
   "cell_type": "code",
   "execution_count": 10,
   "metadata": {},
   "outputs": [
    {
     "name": "stdout",
     "output_type": "stream",
     "text": [
      "mean: 23.36\n",
      "std: 10.15\n"
     ]
    }
   ],
   "source": [
    "mean = y_train.mean()\n",
    "print(\"mean: \" + str(round(mean,2)))\n",
    "std = y_train.std()\n",
    "print(\"std: \" + str(round(std,2)))"
   ]
  },
  {
   "cell_type": "markdown",
   "metadata": {},
   "source": [
    "#### Set cost parameters and service level"
   ]
  },
  {
   "cell_type": "markdown",
   "metadata": {},
   "source": [
    "To calculate the optimal inventory quantity we have to set our under- and overage costs, as well as the corresponding service level:"
   ]
  },
  {
   "cell_type": "code",
   "execution_count": 11,
   "metadata": {},
   "outputs": [],
   "source": [
    "cu = 15\n",
    "co = 5\n",
    "alpha = cu/(cu+co)"
   ]
  },
  {
   "cell_type": "markdown",
   "metadata": {},
   "source": [
    "#### Solve optimization problem"
   ]
  },
  {
   "cell_type": "markdown",
   "metadata": {},
   "source": [
    "Now that we have estimated the distribution parameters and set our service level, we can calculate the optimal inventory quantity by solving the newsvendor optimization problem that is again given by:\n",
    "\n",
    "\\begin{equation}q^*=F^{-1}\\biggl(\\frac{cu}{cu+co}\\biggl)=F^{-1}(\\alpha)\\end{equation}"
   ]
  },
  {
   "cell_type": "code",
   "execution_count": 12,
   "metadata": {},
   "outputs": [
    {
     "name": "stdout",
     "output_type": "stream",
     "text": [
      "The optimal inventory quantity is: 30.20467906302532\n"
     ]
    }
   ],
   "source": [
    "q = norm(mean, std).ppf(alpha)\n",
    "print(\"The optimal inventory quantity is: \" + str(q))"
   ]
  },
  {
   "cell_type": "markdown",
   "metadata": {},
   "source": [
    "#### Cost calculation"
   ]
  },
  {
   "cell_type": "markdown",
   "metadata": {},
   "source": [
    "Finally let us calculate the average costs for the test set to see how goot the traditional parametric approch performs. Therefore, we assume the demand to be stationary so our inventory quantity will constant over for all planning periods. "
   ]
  },
  {
   "cell_type": "code",
   "execution_count": 13,
   "metadata": {},
   "outputs": [
    {
     "name": "stdout",
     "output_type": "stream",
     "text": [
      "Average costs: -65.75677767303732\n"
     ]
    }
   ],
   "source": [
    "y_pred = np.full(y_test.shape[0],q)\n",
    "avg_costs = calc_avg_costs(y_test, y_pred, cu, co)\n",
    "print(\"Average costs: \"+str(avg_costs[0]))"
   ]
  },
  {
   "cell_type": "markdown",
   "metadata": {},
   "source": [
    "------------------------------------\n",
    "### SEO using forcasting model"
   ]
  },
  {
   "cell_type": "markdown",
   "metadata": {},
   "source": [
    "In the last step we have assumed the demand to be stationary. However, in many real-world situations this assumption is not true, as the demand might be seasonal, follow a trend or is influenced by factors like the weather conditions. Now, in this part of the tutorial, we will have a look at SEO approaches that are using demand forcasting/prediction models to take such factors into account. For instance, we will look at the following two approaches: \n",
    "\n",
    "1. [Exponential Smoothing Newsvendor](#Exponential-Smoothing-Newsvendor)\n",
    "2. [Random Forest Newsvendor](#Random-Forest-Newsvendor)\n",
    "\n",
    "The first approch is only considering historical demand data whereas the second one also takes into account auxiliary data (features).   \n"
   ]
  },
  {
   "cell_type": "markdown",
   "metadata": {},
   "source": [
    "#### Exponential Smoothing Newsvendor\n",
    "\n",
    "As the name suggests, this model is using exponential smoothing as underlying forcasting model. The idea behind this approach is to predict demand as a function of past demand values. There are tree different types of Exponential Smoothing:\n",
    "1. single exponential smoothing for stationary data,\n",
    "2. double exponential smoothing for data with trend or\n",
    "3. triple exponential smoothing for data with trend and seasonality.\n",
    "\n",
    "Consequently, depending on the type of Exponential smoothing, we are able to consider trend and seasonality in our Data."
   ]
  },
  {
   "cell_type": "markdown",
   "metadata": {},
   "source": [
    "##### Preprocess data\n",
    "\n",
    "Just like for the [Traditional parametric approach](#Traditional-parametric-approach), we only need our historical demand data without any feature information fo this model. So lets select our data and split it into train and test set."
   ]
  },
  {
   "cell_type": "code",
   "execution_count": 14,
   "metadata": {},
   "outputs": [],
   "source": [
    "y = data['STEAK']\n",
    "y_train, y_test = train_test_split(y, train_size=0.75, shuffle=False)"
   ]
  },
  {
   "cell_type": "markdown",
   "metadata": {},
   "source": [
    "##### Initialize and fit model"
   ]
  },
  {
   "cell_type": "markdown",
   "metadata": {},
   "source": [
    "Lets now use triple exponential smoothin. Therefore, we have to set the following parameters: \n",
    "- `trend`: \"mul\", \"add\" - whether to use an multiplicative or additive trend   \n",
    "- `damped`: bool - whether to dampe the trend\n",
    "- `seasonal`: \"mul\", \"add\" - whether to use an multiplicative or additive seasonality \n",
    "- `seasonal_periods`: int - The number of periods in a complete seasonal cycle, e.g., 4 for quarterly data or 7 for daily data with a weekly cycle.\n",
    "\n",
    "We set both, `trend` and `seasonal` to `\"add\"`. As we have daily data we set `seasonal_periods` to `7` for a weekly cycle. As we will calculate the the inventory quantities for the entire test set, the trend might be unrealistic for such a long planing horizon. Consequently we set the parameter `damped` to `True`. Damping the trend means reducing the size of the trend over the time."
   ]
  },
  {
   "cell_type": "code",
   "execution_count": 15,
   "metadata": {},
   "outputs": [],
   "source": [
    "mdl_ESN = ExponentialSmoothingNewsvendor(cu,co,trend=\"add\", damped=True, seasonal='add',seasonal_periods=7)"
   ]
  },
  {
   "cell_type": "code",
   "execution_count": 16,
   "metadata": {},
   "outputs": [
    {
     "name": "stderr",
     "output_type": "stream",
     "text": [
      "c:\\users\\andre\\appdata\\local\\programs\\python\\python37\\lib\\site-packages\\statsmodels\\tsa\\holtwinters.py:725: RuntimeWarning: invalid value encountered in less_equal\n",
      "  loc = initial_p <= lb\n",
      "c:\\users\\andre\\appdata\\local\\programs\\python\\python37\\lib\\site-packages\\statsmodels\\tsa\\holtwinters.py:731: RuntimeWarning: invalid value encountered in greater_equal\n",
      "  loc = initial_p >= ub\n"
     ]
    },
    {
     "data": {
      "text/plain": [
       "ExponentialSmoothingNewsvendor(co=5, cu=15, damped=array([ True]),\n",
       "                               damping_slope=array([None], dtype=object),\n",
       "                               optimized=array([ True]),\n",
       "                               remove_bias=array([False]),\n",
       "                               seasonal=array(['add'], dtype='<U3'),\n",
       "                               seasonal_periods=array([7]),\n",
       "                               smoothing_level=array([None], dtype=object),\n",
       "                               smoothing_seasonal=array([None], dtype=object),\n",
       "                               smoothing_slope=array([None], dtype=object),\n",
       "                               trend=array(['add'], dtype='<U3'),\n",
       "                               use_basinhopping=array([False]),\n",
       "                               use_boxcox=array([False]))"
      ]
     },
     "execution_count": 16,
     "metadata": {},
     "output_type": "execute_result"
    }
   ],
   "source": [
    "mdl_ESN.fit(y_train)"
   ]
  },
  {
   "cell_type": "markdown",
   "metadata": {},
   "source": [
    "##### Get inventory quantities and calculate costs"
   ]
  },
  {
   "cell_type": "code",
   "execution_count": 17,
   "metadata": {},
   "outputs": [],
   "source": [
    "y_pred =  mdl_ESN.predict(y_test.size)"
   ]
  },
  {
   "cell_type": "code",
   "execution_count": 18,
   "metadata": {},
   "outputs": [
    {
     "name": "stdout",
     "output_type": "stream",
     "text": [
      "Average costs: -53.96397869174216\n"
     ]
    }
   ],
   "source": [
    "avg_costs = calc_avg_costs(y_test, y_pred, cu, co)\n",
    "print(\"Average costs: \"+str(avg_costs[0]))"
   ]
  },
  {
   "cell_type": "markdown",
   "metadata": {},
   "source": [
    "#### Random Forest Newsvendor"
   ]
  },
  {
   "cell_type": "markdown",
   "metadata": {},
   "source": [
    "In progress"
   ]
  }
 ],
 "metadata": {
  "kernelspec": {
   "display_name": "Python 3",
   "language": "python",
   "name": "python3"
  },
  "language_info": {
   "codemirror_mode": {
    "name": "ipython",
    "version": 3
   },
   "file_extension": ".py",
   "mimetype": "text/x-python",
   "name": "python",
   "nbconvert_exporter": "python",
   "pygments_lexer": "ipython3",
   "version": "3.7.7"
  },
  "pycharm": {
   "stem_cell": {
    "cell_type": "raw",
    "metadata": {
     "collapsed": false
    },
    "source": [
     "\n"
    ]
   }
  }
 },
 "nbformat": 4,
 "nbformat_minor": 4
}
